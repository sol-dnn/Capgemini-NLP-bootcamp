{
 "cells": [
  {
   "cell_type": "markdown",
   "id": "e70792de",
   "metadata": {},
   "source": [
    "**Data Science part:**\n",
    "\n",
    "Create a script able to scrape the trustpilot website for the following energy suppliers, making sure that you have the comments of the first 10 pages:\n",
    "https://fr.trustpilot.com/review/eni.fr\n",
    "https://fr.trustpilot.com/review/totalenergies.fr\n",
    "Make sure that for each comment you have the date, the body, the rate and (bonus) the answer of the supplier."
   ]
  },
  {
   "cell_type": "code",
   "execution_count": 158,
   "id": "f47ce450",
   "metadata": {
    "scrolled": true
   },
   "outputs": [],
   "source": [
    "#!pip install selenium"
   ]
  },
  {
   "cell_type": "code",
   "execution_count": 159,
   "id": "76e1ebbc",
   "metadata": {},
   "outputs": [],
   "source": [
    "import selenium\n",
    "from selenium import webdriver\n",
    "from selenium.webdriver.common.by import By\n",
    "from selenium.webdriver.common.keys import Keys\n",
    "from selenium.common.exceptions import NoSuchElementException\n",
    "\n",
    "# Libraries for the last exercise (optionnal)\n",
    "import os\n",
    "import pandas as pd\n",
    "import time\n",
    "import matplotlib.pyplot as plt\n",
    "import datetime\n",
    "import argparse\n",
    "from bs4 import BeautifulSoup\n",
    "import requests"
   ]
  },
  {
   "cell_type": "code",
   "execution_count": 160,
   "id": "504282c5",
   "metadata": {},
   "outputs": [
    {
     "data": {
      "text/plain": [
       "'/Users/dnn/anaconda3/lib/python3.11/site-packages/chromedriver_autoinstaller/120/chromedriver'"
      ]
     },
     "execution_count": 160,
     "metadata": {},
     "output_type": "execute_result"
    }
   ],
   "source": [
    "#!pip install chromedriver-autoinstaller\n",
    "\n",
    "import sys\n",
    "sys.path.insert(0,'/usr/lib/chromium-browser/chromedriver')\n",
    "\n",
    "from selenium import webdriver\n",
    "import chromedriver_autoinstaller\n",
    "\n",
    "# setup chrome options\n",
    "chrome_options = webdriver.ChromeOptions()\n",
    "chrome_options.add_argument('--headless') # ensure GUI is off\n",
    "chrome_options.add_argument('--no-sandbox')\n",
    "chrome_options.add_argument('--disable-dev-shm-usage')\n",
    "\n",
    "# set path to chromedriver as per your configuration\n",
    "chromedriver_autoinstaller.install()\n"
   ]
  },
  {
   "cell_type": "code",
   "execution_count": 205,
   "id": "26ab0764",
   "metadata": {},
   "outputs": [],
   "source": [
    "# set the target URL for total energies\n",
    "url = \"https://fr.trustpilot.com/review/totalenergies.fr\"\n",
    "\n",
    "# set up the webdriver\n",
    "driver = webdriver.Chrome(options=chrome_options)\n",
    "driver.get(url)"
   ]
  },
  {
   "cell_type": "markdown",
   "id": "e348a67d",
   "metadata": {},
   "source": [
    "# Using Selenium"
   ]
  },
  {
   "cell_type": "code",
   "execution_count": 222,
   "id": "e71f9305",
   "metadata": {
    "scrolled": false
   },
   "outputs": [
    {
     "name": "stdout",
     "output_type": "stream",
     "text": [
      "Noté 4 sur 5 étoiles\n"
     ]
    },
    {
     "data": {
      "text/plain": [
       "'4'"
      ]
     },
     "execution_count": 222,
     "metadata": {},
     "output_type": "execute_result"
    }
   ],
   "source": [
    "rate_path = '//*[@id=\"__next\"]/div/div/main/div/div[4]/section/div[13]/article/div/section/div[1]/div[1]/img'\n",
    "\n",
    "rate_element = driver.find_element(By.XPATH, rate_path)\n",
    "print(rate_element.get_attribute(\"alt\"))\n",
    "rate = rate_element.get_attribute(\"alt\")[5:6]\n",
    "rate"
   ]
  },
  {
   "cell_type": "code",
   "execution_count": 225,
   "id": "e56d8409",
   "metadata": {},
   "outputs": [
    {
     "data": {
      "text/plain": [
       "'S'"
      ]
     },
     "execution_count": 225,
     "metadata": {},
     "output_type": "execute_result"
    }
   ],
   "source": [
    "rate_path  = '//*[contains(@class, \"star-rating_starRating__4rrcf star-rating_medium__iN6Ty\" )]//img'\n",
    "\n",
    "\n",
    "rate_element = driver.find_element(By.XPATH, rate_path)\n",
    "rate = rate_element.get_attribute(\"alt\")[5:6]\n",
    "\n",
    "rate"
   ]
  },
  {
   "cell_type": "code",
   "execution_count": 218,
   "id": "30c6ca89",
   "metadata": {},
   "outputs": [
    {
     "name": "stdout",
     "output_type": "stream",
     "text": [
      "[\"Tout d'abord jai recu des appels manques des que jai envoye ma demande de souscription a l'entreprise.\\n\\nPuis 2 jours plutard apres avoir communique au telephone avec l'entreprise, jai recu confirmation de mon abonnement. Sincerement Obiely A Tayoro\", \"Contact facile, l'équipe dédiée est à l'écoute, le contrat a été fait rapidement. L'interlocutrice que j'ai eu au téléphone est très attentive et professionnelle. Rappel deux jours après pour formaliser le contrat.\"]\n"
     ]
    }
   ],
   "source": [
    "com_list = []\n",
    "\n",
    "com_path   = '//*[contains(@class, \"typography_body-l__KUYFJ typography_appearance-default__AAY17 typography_color-black__5LYEn\" )]'\n",
    "\n",
    "com = driver.find_element(By.XPATH, com_path,).text\n",
    "\n",
    "\n",
    "review_list = driver.find_elements( By.XPATH,'//*[contains(@class, \"paper_paper__1PY90 paper_outline__lwsUX card_card__lQWDv card_noPadding__D8PcU styles_reviewCard__hcAvl\" )]',)\n",
    "reviews = list(map(lambda x: x.text, review_list))   #list with all the review of the same pages\n",
    "reviews[1]\n",
    "\n",
    "for review in review_list:\n",
    "    com_path   = './/*[contains(@class, \"typography_body-l__KUYFJ typography_appearance-default__AAY17 typography_color-black__5LYEn\" )]'\n",
    "    com = review.find_element(By.XPATH, com_path).text\n",
    "    com_list.append(com)\n",
    "print(com_list[:2])"
   ]
  },
  {
   "cell_type": "markdown",
   "id": "48666ab8",
   "metadata": {},
   "source": [
    "# Using Beautiful Soup"
   ]
  },
  {
   "cell_type": "code",
   "execution_count": 169,
   "id": "c01eb6db",
   "metadata": {},
   "outputs": [
    {
     "data": {
      "text/html": [
       "<div>\n",
       "<style scoped>\n",
       "    .dataframe tbody tr th:only-of-type {\n",
       "        vertical-align: middle;\n",
       "    }\n",
       "\n",
       "    .dataframe tbody tr th {\n",
       "        vertical-align: top;\n",
       "    }\n",
       "\n",
       "    .dataframe thead th {\n",
       "        text-align: right;\n",
       "    }\n",
       "</style>\n",
       "<table border=\"1\" class=\"dataframe\">\n",
       "  <thead>\n",
       "    <tr style=\"text-align: right;\">\n",
       "      <th></th>\n",
       "      <th>Date</th>\n",
       "      <th>Comment</th>\n",
       "      <th>Reply</th>\n",
       "      <th>Rating</th>\n",
       "    </tr>\n",
       "  </thead>\n",
       "  <tbody>\n",
       "    <tr>\n",
       "      <th>0</th>\n",
       "      <td>2023-04-02</td>\n",
       "      <td>Obiely Tayoro\\n1 avis\\nCI\\nll y a 5 jours\\nCel...</td>\n",
       "      <td></td>\n",
       "      <td>1</td>\n",
       "    </tr>\n",
       "    <tr>\n",
       "      <th>1</th>\n",
       "      <td>2024-01-10</td>\n",
       "      <td>MM\\nMonsieur MERZOUK\\n5 avis\\nFR\\nll y a 6 jou...</td>\n",
       "      <td></td>\n",
       "      <td>1</td>\n",
       "    </tr>\n",
       "    <tr>\n",
       "      <th>2</th>\n",
       "      <td>2023-12-27</td>\n",
       "      <td>FB\\nfred B.\\n10 avis\\nFR\\nll y a 6 jours\\nSous...</td>\n",
       "      <td></td>\n",
       "      <td>1</td>\n",
       "    </tr>\n",
       "    <tr>\n",
       "      <th>3</th>\n",
       "      <td>2023-03-17</td>\n",
       "      <td>LI\\nLisa\\n2 avis\\nFR\\nll y a 3 jours\\nMauvais ...</td>\n",
       "      <td></td>\n",
       "      <td>1</td>\n",
       "    </tr>\n",
       "    <tr>\n",
       "      <th>4</th>\n",
       "      <td>2023-12-02</td>\n",
       "      <td>SF\\nSabri Ferchichi\\n2 avis\\nFR\\nIl y a un jou...</td>\n",
       "      <td></td>\n",
       "      <td>3</td>\n",
       "    </tr>\n",
       "    <tr>\n",
       "      <th>5</th>\n",
       "      <td>2023-12-05</td>\n",
       "      <td>AI\\nAlain IMBERT\\n6 avis\\nFR\\n9 janv. 2024\\nAc...</td>\n",
       "      <td></td>\n",
       "      <td>1</td>\n",
       "    </tr>\n",
       "    <tr>\n",
       "      <th>6</th>\n",
       "      <td>2023-12-01</td>\n",
       "      <td>TL\\nTommy lee\\n1 avis\\nFR\\nll y a 4 jours\\nPer...</td>\n",
       "      <td></td>\n",
       "      <td>1</td>\n",
       "    </tr>\n",
       "    <tr>\n",
       "      <th>7</th>\n",
       "      <td>2023-12-14</td>\n",
       "      <td>Moulinie Christel\\n1 avis\\nFR\\nll y a 3 jours\\...</td>\n",
       "      <td></td>\n",
       "      <td>1</td>\n",
       "    </tr>\n",
       "    <tr>\n",
       "      <th>8</th>\n",
       "      <td>2023-07-01</td>\n",
       "      <td>JO\\nJONATHAN\\n5 avis\\nFR\\n13 janv. 2024\\nDirec...</td>\n",
       "      <td></td>\n",
       "      <td>1</td>\n",
       "    </tr>\n",
       "    <tr>\n",
       "      <th>9</th>\n",
       "      <td>2023-12-13</td>\n",
       "      <td>AB\\nAntoine Brigitte\\n4 avis\\nMQ\\n8 janv. 2024...</td>\n",
       "      <td></td>\n",
       "      <td>1</td>\n",
       "    </tr>\n",
       "    <tr>\n",
       "      <th>10</th>\n",
       "      <td>2024-01-06</td>\n",
       "      <td>Cynthia Tanghe\\n2 avis\\nFR\\n10 janv. 2024\\nTrè...</td>\n",
       "      <td></td>\n",
       "      <td>1</td>\n",
       "    </tr>\n",
       "    <tr>\n",
       "      <th>11</th>\n",
       "      <td>2023-12-05</td>\n",
       "      <td>MM\\nMonsieur MORCHEDI\\n4 avis\\nFR\\n3 janv. 202...</td>\n",
       "      <td></td>\n",
       "      <td>1</td>\n",
       "    </tr>\n",
       "    <tr>\n",
       "      <th>12</th>\n",
       "      <td>2023-09-20</td>\n",
       "      <td>RA\\nRania\\n9 avis\\nFR\\nll y a 6 jours\\nIl semb...</td>\n",
       "      <td></td>\n",
       "      <td>1</td>\n",
       "    </tr>\n",
       "    <tr>\n",
       "      <th>13</th>\n",
       "      <td>2023-11-08</td>\n",
       "      <td>Emma\\n2 avis\\nFR\\n7 janv. 2024\\nPour moi c’est...</td>\n",
       "      <td></td>\n",
       "      <td>1</td>\n",
       "    </tr>\n",
       "    <tr>\n",
       "      <th>14</th>\n",
       "      <td>2023-11-21</td>\n",
       "      <td>Moonia Dekodia\\n1 avis\\nFR\\n28 déc. 2023\\nJe r...</td>\n",
       "      <td></td>\n",
       "      <td>1</td>\n",
       "    </tr>\n",
       "    <tr>\n",
       "      <th>15</th>\n",
       "      <td>2023-11-14</td>\n",
       "      <td>Pierre Besnier\\n2 avis\\nFR\\n14 janv. 2024\\nTot...</td>\n",
       "      <td></td>\n",
       "      <td>1</td>\n",
       "    </tr>\n",
       "    <tr>\n",
       "      <th>16</th>\n",
       "      <td>2023-12-01</td>\n",
       "      <td>LA\\nleila abdallah\\n6 avis\\nFR\\n3 janv. 2024\\n...</td>\n",
       "      <td></td>\n",
       "      <td>1</td>\n",
       "    </tr>\n",
       "    <tr>\n",
       "      <th>17</th>\n",
       "      <td>2023-10-04</td>\n",
       "      <td>MJ\\nMarc Jacquier\\n3 avis\\nFR\\n3 janv. 2024\\nb...</td>\n",
       "      <td></td>\n",
       "      <td>1</td>\n",
       "    </tr>\n",
       "    <tr>\n",
       "      <th>18</th>\n",
       "      <td>2023-11-03</td>\n",
       "      <td>VE\\nVERGNE\\n5 avis\\nFR\\nll y a 5 jours\\nTotal ...</td>\n",
       "      <td></td>\n",
       "      <td>1</td>\n",
       "    </tr>\n",
       "    <tr>\n",
       "      <th>19</th>\n",
       "      <td>2023-12-08</td>\n",
       "      <td>CH\\nCha\\n4 avis\\nFR\\n14 janv. 2024\\nRemboursem...</td>\n",
       "      <td></td>\n",
       "      <td>1</td>\n",
       "    </tr>\n",
       "  </tbody>\n",
       "</table>\n",
       "</div>"
      ],
      "text/plain": [
       "         Date                                            Comment Reply  Rating\n",
       "0  2023-04-02  Obiely Tayoro\\n1 avis\\nCI\\nll y a 5 jours\\nCel...             1\n",
       "1  2024-01-10  MM\\nMonsieur MERZOUK\\n5 avis\\nFR\\nll y a 6 jou...             1\n",
       "2  2023-12-27  FB\\nfred B.\\n10 avis\\nFR\\nll y a 6 jours\\nSous...             1\n",
       "3  2023-03-17  LI\\nLisa\\n2 avis\\nFR\\nll y a 3 jours\\nMauvais ...             1\n",
       "4  2023-12-02  SF\\nSabri Ferchichi\\n2 avis\\nFR\\nIl y a un jou...             3\n",
       "5  2023-12-05  AI\\nAlain IMBERT\\n6 avis\\nFR\\n9 janv. 2024\\nAc...             1\n",
       "6  2023-12-01  TL\\nTommy lee\\n1 avis\\nFR\\nll y a 4 jours\\nPer...             1\n",
       "7  2023-12-14  Moulinie Christel\\n1 avis\\nFR\\nll y a 3 jours\\...             1\n",
       "8  2023-07-01  JO\\nJONATHAN\\n5 avis\\nFR\\n13 janv. 2024\\nDirec...             1\n",
       "9  2023-12-13  AB\\nAntoine Brigitte\\n4 avis\\nMQ\\n8 janv. 2024...             1\n",
       "10 2024-01-06  Cynthia Tanghe\\n2 avis\\nFR\\n10 janv. 2024\\nTrè...             1\n",
       "11 2023-12-05  MM\\nMonsieur MORCHEDI\\n4 avis\\nFR\\n3 janv. 202...             1\n",
       "12 2023-09-20  RA\\nRania\\n9 avis\\nFR\\nll y a 6 jours\\nIl semb...             1\n",
       "13 2023-11-08  Emma\\n2 avis\\nFR\\n7 janv. 2024\\nPour moi c’est...             1\n",
       "14 2023-11-21  Moonia Dekodia\\n1 avis\\nFR\\n28 déc. 2023\\nJe r...             1\n",
       "15 2023-11-14  Pierre Besnier\\n2 avis\\nFR\\n14 janv. 2024\\nTot...             1\n",
       "16 2023-12-01  LA\\nleila abdallah\\n6 avis\\nFR\\n3 janv. 2024\\n...             1\n",
       "17 2023-10-04  MJ\\nMarc Jacquier\\n3 avis\\nFR\\n3 janv. 2024\\nb...             1\n",
       "18 2023-11-03  VE\\nVERGNE\\n5 avis\\nFR\\nll y a 5 jours\\nTotal ...             1\n",
       "19 2023-12-08  CH\\nCha\\n4 avis\\nFR\\n14 janv. 2024\\nRemboursem...             1"
      ]
     },
     "execution_count": 169,
     "metadata": {},
     "output_type": "execute_result"
    }
   ],
   "source": [
    "from bs4 import BeautifulSoup\n",
    "from datetime import datetime\n",
    "\n",
    "\n",
    "\n",
    "ratings = []\n",
    "replies = []\n",
    "\n",
    "\n",
    "\n",
    "\n",
    "url = 'https://fr.trustpilot.com/review/' + 'eni' + '.fr?'\n",
    "response = requests.get((f\"{url}page={1}\"))\n",
    "web_page = response.text\n",
    "soup = BeautifulSoup(web_page, \"html.parser\")\n",
    "\n",
    "for review in soup.find_all(class_ = 'paper_paper__1PY90 paper_outline__lwsUX card_card__lQWDv card_noPadding__D8PcU styles_reviewCard__hcAvl'):\n",
    "\n",
    "\n",
    "  # Review dates\n",
    "  date = review.find(class_ = date_path)\n",
    "  date = date.getText()[22:] # Remove the unnecessary part 'Date de l'expérience:'\n",
    "\n",
    "  # Replace French month names with English month names in the date string\n",
    "  for french_month, english_month in french_to_english_month.items():\n",
    "      date = date.replace(french_month, english_month)    # \n",
    "\n",
    "  date = datetime.strptime(date, date_format) # Parse the date string into a datetime object\n",
    "  dates.append(date)\n",
    "\n",
    "  # Review ratings             \n",
    "  rating = review.find(class_ = \"star-rating_starRating__4rrcf star-rating_medium__iN6Ty\").findChild()\n",
    "    #get the first child element of the found element, \n",
    "  rating = rating[\"alt\"][5:6] # Just get the number of stars\n",
    "  ratings.append(int(rating)) # Convert rating to an integer to perform operations like mean rating\n",
    "\n",
    "  # Review comments\n",
    "  comment = review.find(class_ = com_path)\n",
    "  # When there is no review text, append \"\" instead of skipping so that data remains in sequence with other review data\n",
    "  if comment == None:\n",
    "    comments.append(\"\")\n",
    "  else:\n",
    "    comments.append(comment.getText())\n",
    "\n",
    "  # Review replies\n",
    "  reply = review.find(class_ = \"typography_body-m__xgxZ_ typography_appearance-default__AAY17 styles_message__shHhX\")\n",
    "  # Same reasoning for the replies by the supplier\n",
    "  if reply == None:\n",
    "    replies.append(\"\")\n",
    "  else:\n",
    "    replies.append(reply.getText())\n",
    "    \n",
    "    \n",
    "    \n",
    "\n",
    "# Create final dataframe from lists\n",
    "df_reviews = pd.DataFrame(\n",
    "   list(zip(dates, comments, replies, ratings)),\n",
    "   columns =['Date', 'Comment', 'Reply', 'Rating']\n",
    ")\n",
    "\n",
    "\n",
    "\n",
    "df_reviews\n",
    "\n"
   ]
  },
  {
   "cell_type": "code",
   "execution_count": 137,
   "id": "e8c065e0",
   "metadata": {
    "scrolled": false
   },
   "outputs": [
    {
     "name": "stdout",
     "output_type": "stream",
     "text": [
      "DataFrame has been saved to Reviews_totalenergies\n"
     ]
    },
    {
     "data": {
      "text/html": [
       "<div>\n",
       "<style scoped>\n",
       "    .dataframe tbody tr th:only-of-type {\n",
       "        vertical-align: middle;\n",
       "    }\n",
       "\n",
       "    .dataframe tbody tr th {\n",
       "        vertical-align: top;\n",
       "    }\n",
       "\n",
       "    .dataframe thead th {\n",
       "        text-align: right;\n",
       "    }\n",
       "</style>\n",
       "<table border=\"1\" class=\"dataframe\">\n",
       "  <thead>\n",
       "    <tr style=\"text-align: right;\">\n",
       "      <th></th>\n",
       "      <th>Date</th>\n",
       "      <th>Title</th>\n",
       "      <th>Comment</th>\n",
       "      <th>Reply</th>\n",
       "      <th>Rating</th>\n",
       "    </tr>\n",
       "  </thead>\n",
       "  <tbody>\n",
       "    <tr>\n",
       "      <th>0</th>\n",
       "      <td>2024-01-16</td>\n",
       "      <td>Celerite chez TotalEnergies</td>\n",
       "      <td>Tout d'abord jai recu des appels manques des q...</td>\n",
       "      <td></td>\n",
       "      <td>5</td>\n",
       "    </tr>\n",
       "    <tr>\n",
       "      <th>1</th>\n",
       "      <td>2024-01-10</td>\n",
       "      <td>Abonnement</td>\n",
       "      <td>Contact facile, l'équipe dédiée est à l'écoute...</td>\n",
       "      <td></td>\n",
       "      <td>5</td>\n",
       "    </tr>\n",
       "    <tr>\n",
       "      <th>2</th>\n",
       "      <td>2024-01-09</td>\n",
       "      <td>Souscription en ligne facile et…</td>\n",
       "      <td>Souscription en ligne facile et relativement r...</td>\n",
       "      <td></td>\n",
       "      <td>4</td>\n",
       "    </tr>\n",
       "    <tr>\n",
       "      <th>3</th>\n",
       "      <td>2024-01-19</td>\n",
       "      <td>Mauvais tarif d'abonnement</td>\n",
       "      <td>Ne prenez pas votre abonnement de gaz chez eux...</td>\n",
       "      <td></td>\n",
       "      <td>1</td>\n",
       "    </tr>\n",
       "    <tr>\n",
       "      <th>4</th>\n",
       "      <td>2024-01-21</td>\n",
       "      <td>Le meilleur distributeur d'électricité…</td>\n",
       "      <td>Le meilleur distributeur d'électricité et de g...</td>\n",
       "      <td></td>\n",
       "      <td>5</td>\n",
       "    </tr>\n",
       "    <tr>\n",
       "      <th>...</th>\n",
       "      <td>...</td>\n",
       "      <td>...</td>\n",
       "      <td>...</td>\n",
       "      <td>...</td>\n",
       "      <td>...</td>\n",
       "    </tr>\n",
       "    <tr>\n",
       "      <th>195</th>\n",
       "      <td>2023-12-01</td>\n",
       "      <td>Offre promotionnelle intéressante</td>\n",
       "      <td></td>\n",
       "      <td></td>\n",
       "      <td>5</td>\n",
       "    </tr>\n",
       "    <tr>\n",
       "      <th>196</th>\n",
       "      <td>2023-11-28</td>\n",
       "      <td>Très pro...</td>\n",
       "      <td></td>\n",
       "      <td></td>\n",
       "      <td>5</td>\n",
       "    </tr>\n",
       "    <tr>\n",
       "      <th>197</th>\n",
       "      <td>2023-11-21</td>\n",
       "      <td>Excellente interlocutrice 🙏</td>\n",
       "      <td></td>\n",
       "      <td></td>\n",
       "      <td>5</td>\n",
       "    </tr>\n",
       "    <tr>\n",
       "      <th>198</th>\n",
       "      <td>2023-11-15</td>\n",
       "      <td>Très bonne.</td>\n",
       "      <td></td>\n",
       "      <td></td>\n",
       "      <td>5</td>\n",
       "    </tr>\n",
       "    <tr>\n",
       "      <th>199</th>\n",
       "      <td>2023-11-10</td>\n",
       "      <td>Très bien !!</td>\n",
       "      <td></td>\n",
       "      <td></td>\n",
       "      <td>4</td>\n",
       "    </tr>\n",
       "  </tbody>\n",
       "</table>\n",
       "<p>200 rows × 5 columns</p>\n",
       "</div>"
      ],
      "text/plain": [
       "          Date                                    Title  \\\n",
       "0   2024-01-16              Celerite chez TotalEnergies   \n",
       "1   2024-01-10                               Abonnement   \n",
       "2   2024-01-09         Souscription en ligne facile et…   \n",
       "3   2024-01-19               Mauvais tarif d'abonnement   \n",
       "4   2024-01-21  Le meilleur distributeur d'électricité…   \n",
       "..         ...                                      ...   \n",
       "195 2023-12-01        Offre promotionnelle intéressante   \n",
       "196 2023-11-28                              Très pro...   \n",
       "197 2023-11-21              Excellente interlocutrice 🙏   \n",
       "198 2023-11-15                              Très bonne.   \n",
       "199 2023-11-10                             Très bien !!   \n",
       "\n",
       "                                               Comment Reply  Rating  \n",
       "0    Tout d'abord jai recu des appels manques des q...             5  \n",
       "1    Contact facile, l'équipe dédiée est à l'écoute...             5  \n",
       "2    Souscription en ligne facile et relativement r...             4  \n",
       "3    Ne prenez pas votre abonnement de gaz chez eux...             1  \n",
       "4    Le meilleur distributeur d'électricité et de g...             5  \n",
       "..                                                 ...   ...     ...  \n",
       "195                                                                5  \n",
       "196                                                                5  \n",
       "197                                                                5  \n",
       "198                                                                5  \n",
       "199                                                                4  \n",
       "\n",
       "[200 rows x 5 columns]"
      ]
     },
     "execution_count": 137,
     "metadata": {},
     "output_type": "execute_result"
    }
   ],
   "source": [
    "result = webscrapping_trustpilot('totalenergies')\n",
    "result"
   ]
  },
  {
   "cell_type": "code",
   "execution_count": 189,
   "id": "5a6cf1fd",
   "metadata": {},
   "outputs": [],
   "source": [
    "# Define the format of your date string\n",
    "date_format = '%d %B %Y'  # %d is day, %B is full month name, %Y is year with century as a decimal number\n",
    "\n",
    "# Define a dictionary to map French month names to English month names\n",
    "french_to_english_month = {\n",
    "    'janvier': 'January',\n",
    "    'février': 'February',\n",
    "    'mars': 'March',\n",
    "    'avril': 'April',\n",
    "    'mai': 'May',\n",
    "    'juin': 'June',\n",
    "    'juillet': 'July',\n",
    "    'août': 'August',\n",
    "    'septembre': 'September',\n",
    "    'octobre': 'October',\n",
    "    'novembre': 'November',\n",
    "    'décembre': 'December'\n",
    "}\n",
    "\n"
   ]
  },
  {
   "cell_type": "code",
   "execution_count": 190,
   "id": "a930e9d4",
   "metadata": {},
   "outputs": [
    {
     "name": "stdout",
     "output_type": "stream",
     "text": [
      "Date de l'expérience: 08 décembre 2023\n"
     ]
    },
    {
     "data": {
      "text/plain": [
       "'08 décembre 2023'"
      ]
     },
     "execution_count": 190,
     "metadata": {},
     "output_type": "execute_result"
    }
   ],
   "source": [
    "# Review dates\n",
    "date_path  = 'typography_body-m__xgxZ_ typography_appearance-default__AAY17'\n",
    "\n",
    "date = review.find(class_ = date_path)\n",
    "print(date.getText())\n",
    "date = date.getText()[22:] # Remove the unnecessary part 'Date de l'expérience:'\n",
    "date\n"
   ]
  },
  {
   "cell_type": "code",
   "execution_count": 191,
   "id": "8d056a5a",
   "metadata": {},
   "outputs": [
    {
     "data": {
      "text/plain": [
       "'08 December 2023'"
      ]
     },
     "execution_count": 191,
     "metadata": {},
     "output_type": "execute_result"
    }
   ],
   "source": [
    "# Replace French month names with English month names in the date string\n",
    "for french_month, english_month in french_to_english_month.items():\n",
    "    date = date.replace(french_month, english_month)\n",
    "date"
   ]
  },
  {
   "cell_type": "code",
   "execution_count": 192,
   "id": "77de5a00",
   "metadata": {},
   "outputs": [
    {
     "data": {
      "text/plain": [
       "datetime.datetime(2023, 12, 8, 0, 0)"
      ]
     },
     "execution_count": 192,
     "metadata": {},
     "output_type": "execute_result"
    }
   ],
   "source": [
    "date = datetime.strptime(date, date_format) # Parse the date string into a datetime object\n",
    "date"
   ]
  },
  {
   "cell_type": "code",
   "execution_count": null,
   "id": "cff939d9",
   "metadata": {},
   "outputs": [],
   "source": []
  },
  {
   "cell_type": "code",
   "execution_count": 197,
   "id": "2397fa71",
   "metadata": {},
   "outputs": [
    {
     "data": {
      "text/plain": [
       "<img alt=\"Noté 1 sur 5 étoiles\" src=\"https://cdn.trustpilot.net/brand-assets/4.1.0/stars/stars-1.svg\"/>"
      ]
     },
     "execution_count": 197,
     "metadata": {},
     "output_type": "execute_result"
    }
   ],
   "source": [
    "# Review ratings             \n",
    "rating = review.find(class_ = \"star-rating_starRating__4rrcf star-rating_medium__iN6Ty\").findChild()\n",
    "rating"
   ]
  },
  {
   "cell_type": "code",
   "execution_count": 198,
   "id": "5ad10f0f",
   "metadata": {},
   "outputs": [
    {
     "data": {
      "text/plain": [
       "1"
      ]
     },
     "execution_count": 198,
     "metadata": {},
     "output_type": "execute_result"
    }
   ],
   "source": [
    "\n",
    "#get the first child element of the found element, \n",
    "rating = rating[\"alt\"][5:6] # Just get the number of stars\n",
    "int(rating) # Convert rating to an integer to perform operations like mean rating"
   ]
  },
  {
   "cell_type": "code",
   "execution_count": null,
   "id": "ac5dc360",
   "metadata": {},
   "outputs": [],
   "source": []
  }
 ],
 "metadata": {
  "kernelspec": {
   "display_name": "Python 3 (ipykernel)",
   "language": "python",
   "name": "python3"
  },
  "language_info": {
   "codemirror_mode": {
    "name": "ipython",
    "version": 3
   },
   "file_extension": ".py",
   "mimetype": "text/x-python",
   "name": "python",
   "nbconvert_exporter": "python",
   "pygments_lexer": "ipython3",
   "version": "3.11.4"
  }
 },
 "nbformat": 4,
 "nbformat_minor": 5
}

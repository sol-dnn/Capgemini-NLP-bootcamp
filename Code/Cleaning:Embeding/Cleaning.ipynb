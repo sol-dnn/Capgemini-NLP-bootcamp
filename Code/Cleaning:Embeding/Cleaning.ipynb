{
 "cells": [
  {
   "cell_type": "markdown",
   "id": "1beb5f03",
   "metadata": {},
   "source": [
    "## Homework 2 : Technical Homework Assignment"
   ]
  },
  {
   "cell_type": "markdown",
   "id": "b9e58c0f",
   "metadata": {},
   "source": [
    "This part focuses on text processing and analysis. Your tasks include:\n",
    " \n",
    "1. Preprocess your Text Corpus. You can use your own data or the clean data we provided during practical exercise :\n",
    "   - Perform cleaning and normalization.\n",
    " \n",
    "2. Compute TF-IDF Weights:\n",
    "   - Calculate the TF-IDF weights for each word.\n",
    " \n",
    "3. Word Vectorization:\n",
    "   - Use a pre-trained Word2Vec model for vectorizing words (e.g., from [http://nlp.polytechnique.fr/word2vec#french]).If you can’t access to nlp polytechnique models, you can use https://nlp.stanford.edu/projects/glove/ models or you can train your own Word2vec model like we did during the session\n",
    " \n",
    "4. Create Sentence Vectors:\n",
    "   - Form sentence vectors using the weighted average of word vectors based on TF-IDF weights.\n",
    " \n",
    "5. Write an Analytical Report:\n",
    "   - Analyze the representation quality and discuss the impact of TF-IDF weighting."
   ]
  },
  {
   "cell_type": "markdown",
   "id": "3d7f0a0f",
   "metadata": {},
   "source": [
    "**1. Cleaning & Normalization**"
   ]
  },
  {
   "cell_type": "code",
   "execution_count": null,
   "id": "b412c46f",
   "metadata": {},
   "outputs": [],
   "source": []
  }
 ],
 "metadata": {
  "kernelspec": {
   "display_name": "Python 3 (ipykernel)",
   "language": "python",
   "name": "python3"
  },
  "language_info": {
   "codemirror_mode": {
    "name": "ipython",
    "version": 3
   },
   "file_extension": ".py",
   "mimetype": "text/x-python",
   "name": "python",
   "nbconvert_exporter": "python",
   "pygments_lexer": "ipython3",
   "version": "3.11.4"
  }
 },
 "nbformat": 4,
 "nbformat_minor": 5
}
